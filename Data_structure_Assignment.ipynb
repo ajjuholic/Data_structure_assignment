{
  "nbformat": 4,
  "nbformat_minor": 0,
  "metadata": {
    "colab": {
      "provenance": []
    },
    "kernelspec": {
      "name": "python3",
      "display_name": "Python 3"
    },
    "language_info": {
      "name": "python"
    }
  },
  "cells": [
    {
      "cell_type": "markdown",
      "source": [],
      "metadata": {
        "id": "p-zmxo4beE--"
      }
    },
    {
      "cell_type": "markdown",
      "source": [
        "# **Data Types and StructuQuestionsres** .**bold text**"
      ],
      "metadata": {
        "id": "WDqZqfzteIBD"
      }
    },
    {
      "cell_type": "markdown",
      "source": [
        "## **Theory** **Question** **bold text**"
      ],
      "metadata": {
        "id": "wYmBvyFOegMA"
      }
    },
    {
      "cell_type": "markdown",
      "source": [
        "Q. 1 What are data structures, and why are they important?\n",
        "\n",
        "Ans-- Data structures are ways to organize and store data in a computer so it   \n",
        "      can be accessed and updated efficiently. They are used in almost every program and software system.\n",
        "\n",
        "Why are data structures important:-\n",
        "\n",
        "      Efficient data handling Data structures help to organize and manipulate data in a way that allows for precise problem-solving.\n",
        "\n",
        "      Faster programs Understanding data structures and algorithms can help you create programs that run faster.\n",
        "\n",
        "      Better programmers People with a good understanding of data structures and algorithms are often better programmers.\n",
        "\n",
        "\n",
        "\n",
        "Q. 2 Explain the difference between mutable and immutable data types with examples?\n",
        "\n",
        "Ans-- Mutable data types can be changed after they are created, while immutable\n",
        "      data types cannot.\n",
        "\n",
        "Mutable data types\n",
        "\n",
        "**Lists:** Can be changed by adding, removing, or modifying elements\n",
        "\n",
        "**Dictionaries:** Can be changed by adding, removing, or modifying elements\n",
        "\n",
        "**Sets:** Can be changed by adding, removing, or modifying elements\n",
        "\n",
        "**Arrays:** Can be changed by adding, removing, or modifying elements\n",
        "\n",
        "**Objects:** Can be changed by adding, removing, or modifying elements\n",
        "\n",
        "**Functions:** Can be changed by adding, removing, or modifying elements\n",
        "\n",
        "**Dates:** Can be changed by adding, removing, or modifying elements\n",
        "\n",
        "      In this example, we will take a tuple and try to modify its value at a particular index and print it. As a tuple is an immutable object, it will throw an error when we try to modify it.\n",
        "\n",
        "\n",
        "\n",
        "Q. 3 What are the main differences between lists and tuples in Python?\n",
        "\n",
        "Ans- The main difference between lists and tuples in python is Lists are        mutable but Tuples are immutable The implication of iterations is Time-consuming but The implication of iterations is comparatively Faster The list is better for performing operations, such as insertion and deletion but A Tuple data type is appropriate for accessing the elements and many more examples.\n",
        "\n",
        "\n",
        "\n",
        "Q. 4 Describe how dictionaries store data ?\n",
        "\n",
        "Ans- Dictionaries are used to store data values in key:value pairs. A dictionary is a collection which is ordered*, changeable and do not allow duplicates. As of Python version 3.7, dictionaries are ordered. In Python 3.6 and earlier, dictionaries are unordered.in other word A Python dictionary is a data structure that stores the value in key: value pairs. Values in a dictionary can be of any data type and can be duplicated, whereas keys can’t be repeated and must be immutable.\n",
        "\n",
        "Q. 5 Why might you use a set instead of a list in Python ?\n",
        "\n",
        "Ans - The Python sets are highly useful to efficiently remove duplicate values from a collection like a list and to perform common math operations like unions and intersections. The Python sets are highly useful to efficiently remove duplicate values from a collection like a list and to perform common math operations like unions and intersections. Some of the challenges people often encounter are when to use the various data types. For example, if you feel like you aren't sure when it is advantageous to use a dictionary versus a set, I encourage you to check out DataCamp's daily practice mode. If you any questions or thoughts on the tutorial, feel free to reach out in the comments below or through Twitter.\n",
        "\n",
        "\n",
        "\n",
        "Q. 6 What is a string in Python, and how is it different from a list ?\n",
        "\n",
        "Ans - In Python, a string is a sequence of characters, while a list is a sequence of items. Differences:- Mutability: Strings are immutable, meaning they cannot be changed after creation. Lists are mutable, meaning they can be changed after creation.\n",
        "\n",
        "Data type: Strings contain only characters, while lists can contain any type of data.\n",
        "\n",
        "Representation: Strings are represented by single or double quotes, while lists are represented by square brackets. etc\n",
        "\n",
        "\n",
        "\n",
        "Q. 7 How do tuples ensure data integrity in Python ?\n",
        "\n",
        "Ans- Tuples are immutable to ensure that their contents remain constant throughout their lifecycle, guaranteeing data integrity and reliability. This immutability allows tuples to be used as keys in dictionaries and elements in sets, as they can be hashed.\n",
        "\n",
        "\n",
        "\n",
        "\n",
        "Q. 8 What is a hash table, and how does it relate to dictionaries in Python ?\n",
        "\n",
        "Ans- In Python, a hash table is implemented as a dictionary data type. A hash table is a data structure that stores key-value pairs, and dictionaries are a type of hash table.\n",
        "\n",
        "How do hash tables work :-\n",
        "\n",
        "A hash function generates a unique index value for each key\n",
        "\n",
        "The index value determines which bucket to store the key-value pair in\n",
        "\n",
        "The process of transforming a key into an index is called hashing.\n",
        "\n",
        "\n",
        "\n",
        "Q. 9 Can lists contain different data types in Python?\n",
        "\n",
        "Ans- Although it's not really common, a list can also contain a mix of Python types including strings, floats, and booleans.The list class is a fundamental built-in data type in Python. It has an impressive and useful set of features, allowing you to efficiently organize and manipulate heterogeneous data. Knowing how to use lists is a must-have skill for you as a Python developer. Lists have many use cases, so you’ll frequently reach for them in real-world coding.\n",
        "\n",
        "\n",
        "\n",
        "Q. 10 Explain why strings are immutable in Python?\n",
        "\n",
        "Ans- Strings in Python are “immutable” which means they can not be changed after they are created. Some other immutable data types are integers, float, boolean, etc.\n",
        "\n",
        "The immutability of Python string is very useful as it helps in hashing, performance optimization, safety, ease of use, etc.\n",
        "\n",
        "The article will explore the differences between mutable and immutable objects, highlighting the advantages of using immutable objects. It will also compare immutability with mutability, discussing various methods to handle immutability and achieve desired outcomes.\n",
        "\n",
        "\n",
        "\n",
        "Q. 11 What advantages do dictionaries offer over lists for certain tasks?\n",
        "\n",
        "Ans - Dictionaries have several advantages over lists for tasks that require frequent lookups or searches. Dictionaries are faster for finding a specific value, and they can store complex data structures. Speed\n",
        "\n",
        "Lookups\n",
        "\n",
        "Dictionaries are faster for finding a specific value because they use a hash table to store key-value pairs.\n",
        "\n",
        "Iteration\n",
        "\n",
        "Lists are faster for ordered operations like sorting, but dictionaries are faster for lookup operations.\n",
        "\n",
        "\n",
        "\n",
        "Q.12 Describe a scenario where using a tuple would be preferable over a list\n",
        "\n",
        "Ans - Use a tuple if you need an immutable collection where the elements won't change after creation. Tuples are generally faster and more memory-efficient than lists, making them better for fixed collections, especially as dictionary keys or when iteration speed is crucial.\n",
        "\n",
        "Whether a list or a tuple is better in Python depends on the specific use case:\n",
        "\n",
        "Use a list if you need a mutable collection of items where you may need to add, remove, or change elements. Lists are more flexible and have more built-in methods, making them ideal for dynamic collections. Use a tuple if you need an immutable collection where the elements won't change after creation. Tuples are generally faster and more memory-efficient than lists, making them better for fixed collections, especially as dictionary keys or when iteration speed is crucial. In summary, choose lists for flexibility and tuples for performance and immutability.\n",
        "\n",
        "\n",
        "\n",
        "Q.13 How do sets handle duplicate values in Python?\n",
        "\n",
        "Ans- Items of a set in python are immutable (unchangeable), do not duplicate values, and unordered. Thus, items in a set do not appear in a stipulated manner, i.e., they can appear in a different order every time it is used. Due to this, set items cannot be referred to by key or index.\n",
        "\n",
        "Set is a data type in python used to store several items in a single variable. It is one of the four built-in data types (List, Dictionary, Tuple, and Set) having qualities and usage different from the other three. It is a collection that is written with curly brackets and is both unindexed and unordered.\n",
        "\n",
        "A set is mutable, i.e., we can remove or add elements to it. Set in python is similar to mathematical sets, and operations like intersection, union, symmetric difference, and more can be applied.\n",
        "\n",
        "\n",
        "\n",
        "Q.14 How does the “in” keyword work differently for lists and dictionaries?\n",
        "\n",
        "Ans- As mentioned above, the in operation for the dictionary tests on keys. The key of the dictionary is a unique value as well as the set, and the execution time is about the same as for sets. On the other hand, dictionary values can be duplicated like a list.\n",
        "\n",
        "he in operator in Python is a membership operator used to check if a value is part of a collection. You can write not in in Python to check if a value is absent from a collection. Python's membership operators work with several data types like lists, tuples, ranges, and dictionaries. You can use operator.\n",
        "\n",
        "\n",
        "\n",
        "\n",
        "Q. 15 Can you modify the elements of a tuple? Explain why or why not ?\n",
        "\n",
        "Ans- No, you cannot modify the elements of a tuple in Python because tuples are immutable. This means that once a tuple is created, its elements cannot be changed, added, or removed.\n",
        "\n",
        "Explanation\n",
        "\n",
        "Tuples are immutable, while lists are mutable.\n",
        "\n",
        "If you try to change a tuple element, you will receive a TypeError error.\n",
        "\n",
        "To add or remove elements from a tuple, you need to create a new tuple.\n",
        "\n",
        "Tuples are more memory-efficient than lists.\n",
        "\n",
        "Q. 16 What is a nested dictionary, and give an example of its use case?\n",
        "\n",
        "Ans- A nested dictionary is a dictionary that is stored within another dictionary. It's a way to store data in multiple layers, which can be useful for managing complex data.\n",
        "\n",
        "Use case\n",
        "\n",
        "Employee records: Organize employees by department, with each employee's details in a nested dictionary.\n",
        "\n",
        "Inventory systems: Track product categories, subcategories, and individual product details.\n",
        "\n",
        "JSON data: Nested dictionaries can be used to work with APIs and web services because they naturally map to the structure of JSON data.\n",
        "\n",
        "\n",
        "\n",
        "\n",
        "Q. 17 P Describe the time complexity of accessing elements in a dictionary?\n",
        "\n",
        "Ans- In Python, the time complexity of accessing an element in a dictionary is on average. This means that accessing an element in a dictionary is very fast.\n",
        "\n",
        "Explanation\n",
        "\n",
        ".The time complexity of a dictionary operation depends on the size of the dictionary and the operation being performed.\n",
        "\n",
        ".Python dictionaries use a hashing system to automatically locate keys in the dictionary's \"shelf\" of keys.\n",
        "\n",
        ".The time complexity of other dictionary operations in Python is also (O(1)) on average, including:\n",
        "\n",
        "Adding or updating an element  Deleting an element  Checking if a key exists  Clearing a dictionary\n",
        "\n",
        "\n",
        "\n",
        "\n",
        "Q. 18 In what situations are lists preferred over dictionaries?\n",
        "\n",
        "Ans- For quick data look-ups, configurations, or caches, favor dictionaries. For ordered collections and sequence operations, such as maintaining a stack or queue, lists are more suitable.\n",
        "\n",
        "Lists and Dictionaries in Python are inbuilt data structures that are used to store data. Lists are linear in nature whereas dictionaries stored the data in key-value pairs. In this article, we will see the difference between the two and find out the time complexities and space complexities which arises when we try to store data and try to perform certain operations on them.\n",
        "\n",
        "\n",
        "\n",
        "\n",
        "Q. 19 Why are dictionaries considered unordered, and how does that affect data retrieval?\n",
        "\n",
        "Ans- Dictionaries are considered unordered because they do not maintain a specific sequence or order when storing key-value pairs, meaning you cannot access elements based on their position in the collection like you can with a list; instead, you access data directly using unique keys, which allows for very fast data retrieval based on the key, regardless of the insertion order; this prioritizes fast lookups over maintaining order.\n",
        "\n",
        ":-Key points about dictionaries and unordered nature:\n",
        "\n",
        "Access by key: The primary way to access data in a dictionary is using a key, which is a unique identifier that directly points to the associated value, bypassing the need to search through a sequence.\n",
        "\n",
        "No inherent order:\n",
        "\n",
        "Unlike lists, dictionaries do not inherently store elements in a specific order, so iterating through a dictionary might not return the items in the same order they were added.\n",
        "\n",
        "Optimized for fast lookups:\n",
        "\n",
        "By using keys for access, dictionaries are designed for quick retrieval of data based on a known key, making them ideal for scenarios where fast key-based access is crucial.\n",
        "\n",
        "\n",
        "\n",
        "Q. 20 Explain the difference between a list and a dictionary in terms of data retrieval.\n",
        "\n",
        "Ans- In Python, the difference between data retrieval in a list and a dictionary is that lists use indices to access elements, while dictionaries use keys.\n",
        "\n",
        "Explanation\n",
        "\n",
        ":- list\n",
        "\n",
        "Lists are ordered collections of items.\n",
        "\n",
        "Elements in a list are accessed using indices, which are integers that start at zero.\n",
        "\n",
        "Lists are good for ordered operations like sorting.\n",
        "\n",
        "Lists can contain duplicate items.\n",
        "\n",
        ":-Dictionaries\n",
        "\n",
        "Dictionaries are unordered collections of key-value pairs.\n",
        "\n",
        "Elements in a dictionary are accessed using keys, which can be of any data type.\n",
        "\n",
        "Dictionaries are good for lookup operations.\n",
        "\n",
        "Dictionaries do not allow duplicate keys.\n",
        "\n",
        "\n"
      ],
      "metadata": {
        "id": "wlTjDg9uekPo"
      }
    },
    {
      "cell_type": "markdown",
      "source": [
        "# **Practical Questions**"
      ],
      "metadata": {
        "id": "OujS-Eitgqyp"
      }
    },
    {
      "cell_type": "code",
      "source": [
        "# 1 Write a code to create a string with your name and print it\n",
        "\n",
        "name = \"Arjun Das\"\n",
        "print(name)"
      ],
      "metadata": {
        "id": "8zUTZVPChJxc"
      },
      "execution_count": null,
      "outputs": []
    },
    {
      "cell_type": "code",
      "source": [
        "# 2  Write a code to find the length of the string \"Hello World\".\n",
        "\n",
        "string = \"Hello World\"\n",
        "#print(len(string))\n",
        "len(string)    #other method\n",
        "\n"
      ],
      "metadata": {
        "colab": {
          "base_uri": "https://localhost:8080/"
        },
        "collapsed": true,
        "id": "fs6fJ6fyhcfg",
        "outputId": "b0d4c367-1150-422c-a9c2-bb2936fcc8a4"
      },
      "execution_count": null,
      "outputs": [
        {
          "output_type": "execute_result",
          "data": {
            "text/plain": [
              "11"
            ]
          },
          "metadata": {},
          "execution_count": 2
        }
      ]
    },
    {
      "cell_type": "code",
      "source": [
        "# 3  Write a code to slice the first 3 characters from the string \"Python Programming\".\n",
        "\n",
        "string = (\"Python Programming\")\n",
        "#print(string[0:3])\n",
        "slic = string[0:3]\n",
        "print(slic)\n",
        "\n",
        "\n"
      ],
      "metadata": {
        "colab": {
          "base_uri": "https://localhost:8080/"
        },
        "collapsed": true,
        "id": "GOdzz9nViJdE",
        "outputId": "86aa4a3e-8110-4ead-9cdf-0b9b9c98267d"
      },
      "execution_count": null,
      "outputs": [
        {
          "output_type": "stream",
          "name": "stdout",
          "text": [
            "Pyt\n"
          ]
        }
      ]
    },
    {
      "cell_type": "code",
      "source": [
        "# 4 Write a code to convert the string \"hello\" to uppercase.\n",
        "string = (\"hello\")\n",
        "#string.upper()\n",
        "#print(string.upper())\n",
        "uppercase = string.upper()\n",
        "print(uppercase)"
      ],
      "metadata": {
        "colab": {
          "base_uri": "https://localhost:8080/"
        },
        "collapsed": true,
        "id": "hX3raL1LjNKy",
        "outputId": "89c7bd66-8385-4b9c-b2af-a7d1c3f22a44"
      },
      "execution_count": null,
      "outputs": [
        {
          "output_type": "stream",
          "name": "stdout",
          "text": [
            "HELLO\n"
          ]
        }
      ]
    },
    {
      "cell_type": "code",
      "source": [
        "# 5 Write a code to replace the word \"apple\" with \"orange\" in the string \"I like apple.\n",
        "string = (\"I like apple\")\n",
        "#print(string.replace(\"apple\",\"orange\"))\n",
        "'''replace = string.replace(\"apple\",\"orange\")\n",
        "print(replace)'''\n",
        "\n",
        "\n",
        "string.replace(\"apple\",\"orange\")  # .replace(\"remov value\" , \"new value\")\n",
        "\n"
      ],
      "metadata": {
        "colab": {
          "base_uri": "https://localhost:8080/",
          "height": 36
        },
        "collapsed": true,
        "id": "jiXEJda1j1QF",
        "outputId": "d116016a-abba-4b6a-ba13-23646f404749"
      },
      "execution_count": null,
      "outputs": [
        {
          "output_type": "execute_result",
          "data": {
            "text/plain": [
              "'I like orange'"
            ],
            "application/vnd.google.colaboratory.intrinsic+json": {
              "type": "string"
            }
          },
          "metadata": {},
          "execution_count": 9
        }
      ]
    },
    {
      "cell_type": "code",
      "source": [
        "# 6 Write a code to create a list with numbers 1 to 5 and print it.\n",
        "my_list = list(range(1,6))\n",
        "print(my_list)"
      ],
      "metadata": {
        "colab": {
          "base_uri": "https://localhost:8080/"
        },
        "collapsed": true,
        "id": "_OvfCHWSlhwq",
        "outputId": "36cc7fc0-7f93-4ce7-94d2-cdafe60050c0"
      },
      "execution_count": null,
      "outputs": [
        {
          "output_type": "stream",
          "name": "stdout",
          "text": [
            "[1, 2, 3, 4, 5]\n"
          ]
        }
      ]
    },
    {
      "cell_type": "code",
      "source": [
        "# 7 Write a code to append the number 10 to the list [1, 2, 3, 4]?>>\n",
        "\n",
        "list = [1,2,3,4]\n",
        "list.append(10)\n",
        "print(list)"
      ],
      "metadata": {
        "colab": {
          "base_uri": "https://localhost:8080/"
        },
        "collapsed": true,
        "id": "68-8qPrTmQKS",
        "outputId": "56f4e131-b83a-4f4c-dc08-be812e400eaf"
      },
      "execution_count": null,
      "outputs": [
        {
          "output_type": "stream",
          "name": "stdout",
          "text": [
            "[1, 2, 3, 4, 10]\n"
          ]
        }
      ]
    },
    {
      "cell_type": "code",
      "source": [
        "# 8 Write a code to remove the number 3 from the list [1, 2, 3, 4, 5]\n",
        "\n",
        "list = [1,2,3,4,5]\n",
        "list.remove(3)\n",
        "print(list)"
      ],
      "metadata": {
        "colab": {
          "base_uri": "https://localhost:8080/"
        },
        "collapsed": true,
        "id": "wOaYTzvGmtRE",
        "outputId": "ea81f785-c0d6-405e-b560-33caccb5fb72"
      },
      "execution_count": null,
      "outputs": [
        {
          "output_type": "stream",
          "name": "stdout",
          "text": [
            "[1, 2, 4, 5]\n"
          ]
        }
      ]
    },
    {
      "cell_type": "code",
      "source": [
        "# 9 Write a code to access the second element in the list ['a', 'b', 'c', 'd']\n",
        "\n",
        "my_list = [\"a\",\"b\",\"c\",\"d\"]\n",
        "my_list[1] #its a too shortcut\n"
      ],
      "metadata": {
        "colab": {
          "base_uri": "https://localhost:8080/",
          "height": 36
        },
        "id": "8mnRGDSinYu5",
        "outputId": "ac52902c-806a-435b-a21a-e73521ba93d5"
      },
      "execution_count": null,
      "outputs": [
        {
          "output_type": "execute_result",
          "data": {
            "text/plain": [
              "'b'"
            ],
            "application/vnd.google.colaboratory.intrinsic+json": {
              "type": "string"
            }
          },
          "metadata": {},
          "execution_count": 15
        }
      ]
    },
    {
      "cell_type": "code",
      "source": [
        "# 10 Write a code to reverse the list [10, 20, 30, 40, 50].\n",
        "list = [10,20,30,40,50]\n",
        "my_list = list[::-1]\n",
        "print(my_list)\n"
      ],
      "metadata": {
        "colab": {
          "base_uri": "https://localhost:8080/"
        },
        "id": "CRdFBAfeoUtv",
        "outputId": "ea837831-e5d7-450d-c71f-b381a24ff7e6"
      },
      "execution_count": null,
      "outputs": [
        {
          "output_type": "stream",
          "name": "stdout",
          "text": [
            "[50, 40, 30, 20, 10]\n"
          ]
        }
      ]
    },
    {
      "cell_type": "code",
      "source": [
        "# 11 Write a code to create a tuple with the elements 100, 200, 300 and print it.\n",
        "\n",
        "tuple = (100,200,300)\n",
        "print(tuple)\n",
        "type(tuple)"
      ],
      "metadata": {
        "collapsed": true,
        "id": "rNnXZf8QooQu"
      },
      "execution_count": null,
      "outputs": []
    },
    {
      "cell_type": "code",
      "source": [
        "# 12  Write a code to access the second-to-last element of the tuple ('red', 'green', 'blue', 'yellow').\n",
        "\n",
        "tuple = (\"red\",\"green\",\"blue\",\"yellow\")\n",
        "tuple[-2]\n"
      ],
      "metadata": {
        "id": "KAY3gOVypCNF"
      },
      "execution_count": null,
      "outputs": []
    },
    {
      "cell_type": "code",
      "source": [
        "# 13 Write a code to find the minimum number in the tuple (10, 20, 5, 15).\n",
        "tuple = (10,20,5,15)\n",
        "min(tuple)"
      ],
      "metadata": {
        "colab": {
          "base_uri": "https://localhost:8080/"
        },
        "id": "D69nbDOaJDu_",
        "outputId": "166ebffe-aecd-43cc-f52d-786903289bda"
      },
      "execution_count": null,
      "outputs": [
        {
          "output_type": "execute_result",
          "data": {
            "text/plain": [
              "5"
            ]
          },
          "metadata": {},
          "execution_count": 8
        }
      ]
    },
    {
      "cell_type": "code",
      "source": [
        "# 14 Write a code to find the index of the element \"cat\" in the tuple ('dog', 'cat', 'rabbit').\n",
        "my_tuple = ('dog','cat','rabbit')\n",
        "index = my_tuple.index('cat')\n",
        "print(index)"
      ],
      "metadata": {
        "id": "J_IXFOSHJ24i"
      },
      "execution_count": null,
      "outputs": []
    },
    {
      "cell_type": "code",
      "source": [
        "# 15  Write a code to create a tuple containing three different fruits and check if \"kiwi\" is in it.\n",
        "my_tuple = (\"apple\",\"banana\",\"kiwi\")\n",
        "\"kiwi\" in my_tuple"
      ],
      "metadata": {
        "id": "mrQcUZ4AyDCl"
      },
      "execution_count": null,
      "outputs": []
    },
    {
      "cell_type": "code",
      "source": [
        "# 16 Write a code to create a set with the elements 'a', 'b', 'c' and print it\n",
        "set = {'a','b','c'}\n",
        "print(set)\n",
        "type(set)"
      ],
      "metadata": {
        "id": "vDOXOgEUyl6w"
      },
      "execution_count": null,
      "outputs": []
    },
    {
      "cell_type": "code",
      "source": [
        "# 17 Write a code to clear all elements from the set {1, 2, 3, 4, 5}.\n",
        "my_set = {1,2,3,4,5}\n",
        "my_set.clear()\n",
        "print(my_set)"
      ],
      "metadata": {
        "id": "APSScQ_ZzCa3"
      },
      "execution_count": null,
      "outputs": []
    },
    {
      "cell_type": "code",
      "source": [
        "# 18  Write a code to remove the element 4 from the set {1, 2, 3, 4}.\n",
        "my_set = {1,2,3,4}\n",
        "my_set.remove(4)\n",
        "print(my_set)"
      ],
      "metadata": {
        "id": "mn1i7BsgzaQd"
      },
      "execution_count": null,
      "outputs": []
    },
    {
      "cell_type": "code",
      "source": [
        "# 19 Write a code to find the union of two sets {1, 2, 3} and {3, 4, 5}.\n",
        "set1 = {1,2,3}\n",
        "set2 = {3,4,5}\n",
        "union = set1.union(set2)\n",
        "print(union)"
      ],
      "metadata": {
        "id": "-GDtpslWztzt"
      },
      "execution_count": null,
      "outputs": []
    },
    {
      "cell_type": "code",
      "source": [
        "# 20 Write a code to find the intersection of two sets {1, 2, 3} and {2, 3, 4}\n",
        "set1 = {1,2,3}\n",
        "set2 = {2,3,4}\n",
        "intersection = set1.intersection(set2)\n",
        "print(intersection)"
      ],
      "metadata": {
        "id": "Meh4ismy0H36"
      },
      "execution_count": null,
      "outputs": []
    },
    {
      "cell_type": "code",
      "source": [
        "# 21 Write a code to create a dictionary with the keys \"name\", \"age\", and \"city\", and print it.\n",
        "my_dict = {'name': 'arjun', 'age': 22, 'city': 'madhyapradesh'}\n",
        "print(my_dict)"
      ],
      "metadata": {
        "id": "YiWiYyUg0dIU"
      },
      "execution_count": null,
      "outputs": []
    },
    {
      "cell_type": "code",
      "source": [
        "# 22 Write a code to add a new key-value pair \"country\": \"USA\" to the dictionary {'name': 'John', 'age': 25}.\n",
        "my_dict = {'name': 'John', 'age': 25}\n",
        "my_dict['country'] = 'USA'\n",
        "print(my_dict)"
      ],
      "metadata": {
        "colab": {
          "base_uri": "https://localhost:8080/"
        },
        "id": "E1WC2DFs0-FW",
        "outputId": "e2f48e71-27bd-4539-d06a-56873fd6a38a"
      },
      "execution_count": null,
      "outputs": [
        {
          "output_type": "stream",
          "name": "stdout",
          "text": [
            "{'name': 'John', 'age': 25, 'country': 'USA'}\n"
          ]
        }
      ]
    },
    {
      "cell_type": "code",
      "source": [
        "# 23 Write a code to access the value associated with the key \"name\" in the dictionary {'name': 'Alice', 'age': 30}.\n",
        "my_dict = {'name' : 'Alice', 'age': 30}\n",
        "name_value = my_dict['name']\n",
        "print(name_value)"
      ],
      "metadata": {
        "id": "ALa5VXRu1-9_"
      },
      "execution_count": null,
      "outputs": []
    },
    {
      "cell_type": "code",
      "source": [
        "# 24  Write a code to remove the key \"age\" from the dictionary {'name': 'Bob', 'age': 22, 'city': 'New York'}\n",
        "my_dict = {'name': 'Bob', 'age': 22, 'city': 'New York'}\n",
        "del my_dict['age']\n",
        "print(my_dict)\n"
      ],
      "metadata": {
        "id": "HFDPplol218G"
      },
      "execution_count": null,
      "outputs": []
    },
    {
      "cell_type": "code",
      "source": [
        "# 25 Write a code to check if the key \"city\" exists in the dictionary {'name': 'Alice', 'city': 'Paris'}.\n",
        "my_dict = {'name': 'Alice', 'city': 'Paris'}\n",
        "if 'city' in my_dict:\n",
        "    print(\"The key 'city' exists in the dictionary.\")\n",
        "else:\n",
        "    print(\"The key 'city' does not exist in the dictionary.\")\n"
      ],
      "metadata": {
        "id": "8eqe_aqZ3Toj"
      },
      "execution_count": null,
      "outputs": []
    },
    {
      "cell_type": "code",
      "source": [
        "# 26 Write a code to create a list, a tuple, and a dictionary, and print them all.\n",
        "my_list = [1,2,3,4,5]\n",
        "my_tuple = (1,2,3,4,5,)\n",
        "my_dict = {'name': 'Arjun', 'age':'22'}\n",
        "print(my_list)\n",
        "print(my_tuple)\n",
        "print(my_dict)"
      ],
      "metadata": {
        "id": "dTjgX_zt4AQy"
      },
      "execution_count": null,
      "outputs": []
    },
    {
      "cell_type": "code",
      "source": [
        "# 27 Write a code to create a list of 5 random numbers between 1 and 100, sort it in ascending order, and print the result(replaced\n",
        "\n",
        "import random\n",
        "random_numbers = [random.randint(1, 100) for _ in range(5)]\n",
        "random_numbers.sort()\n",
        "print(random_numbers)"
      ],
      "metadata": {
        "id": "gq_Hb-dg5DWy"
      },
      "execution_count": null,
      "outputs": []
    },
    {
      "cell_type": "code",
      "source": [
        "# 28 Write a code to create a list with strings and print the element at the third index\n",
        "my_list = [\"apple\", \"banana\", \"orange\", \"grape\", \"kiwi\"]\n",
        "print(\"element at index 3:\", my_list[3])"
      ],
      "metadata": {
        "id": "LeqwWTAD5mPj"
      },
      "execution_count": null,
      "outputs": []
    },
    {
      "cell_type": "code",
      "source": [
        "\n",
        "# 29  Write a code to combine two dictionaries into one and print the result.\n",
        "my_dict1 = {'a': 1, 'b': 2}\n",
        "my_dict2 = {'c': 3, 'd': 4}\n",
        "combined_dict = {**my_dict1, **my_dict2}\n",
        "print(combined_dict)"
      ],
      "metadata": {
        "id": "VjRaS2_P5wsc"
      },
      "execution_count": null,
      "outputs": []
    },
    {
      "cell_type": "code",
      "source": [
        "# 30 Write a code to convert a list of strings into a set.\n",
        "my_list = [\"apple\", \"banana\", \"orange\", \"apple\", \"banana\"]\n",
        "my_set = set(my_list)\n",
        "print(my_set)"
      ],
      "metadata": {
        "id": "aR5GoLWL8K7s",
        "outputId": "4730c28f-6d9e-4159-8206-51019b9d0628",
        "colab": {
          "base_uri": "https://localhost:8080/"
        }
      },
      "execution_count": 2,
      "outputs": [
        {
          "output_type": "stream",
          "name": "stdout",
          "text": [
            "{'orange', 'apple', 'banana'}\n"
          ]
        }
      ]
    }
  ]
}